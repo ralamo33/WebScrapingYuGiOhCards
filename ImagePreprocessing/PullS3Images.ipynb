{
 "cells": [
  {
   "cell_type": "code",
   "execution_count": 2,
   "metadata": {},
   "outputs": [],
   "source": [
    "import numpy as np\n",
    "import boto3\n",
    "import io\n",
    "import os\n",
    "import PIL\n",
    "import tensorflow as tf"
   ]
  },
  {
   "cell_type": "code",
   "execution_count": 11,
   "metadata": {},
   "outputs": [],
   "source": [
    "def open_s3_image(bucket_name, key):\n",
    "    client = boto3.client('s3')\n",
    "    full_object = client.get_object(Bucket=bucket_name, Key=key)\n",
    "    return PIL.Image.open(io.BytesIO(full_object['Body'].read()))"
   ]
  },
  {
   "cell_type": "code",
   "execution_count": 12,
   "metadata": {},
   "outputs": [],
   "source": [
    "def open_s3_bucket(bucket_name, limit=1000):\n",
    "    #Returns a list of PIL images from the images in a python bucket\n",
    "    resource = boto3.resource('s3')\n",
    "#     client = boto3.client('s3')\n",
    "    bucket = resource.Bucket(bucket_name)\n",
    "    images = []\n",
    "    for idx, obj in enumerate(bucket.objects.all()):\n",
    "        images.append(open_s3_image(bucket_name, obj.key))\n",
    "        if idx >= limit:\n",
    "            break\n",
    "    return images\n",
    "#         full_object = client.get_object(Bucket=bucket_name, Key=obj.key)\n",
    "#         images.append(PIL.Image.open(io.BytesIO(full_object['Body'].read())))"
   ]
  },
  {
   "cell_type": "code",
   "execution_count": 13,
   "metadata": {},
   "outputs": [],
   "source": [
    "def open_s3_key_list(bucket_name, keys):\n",
    "    images = []\n",
    "    for key in keys:\n",
    "        images.append(open_s3_image(bucket_name, key))\n",
    "    return images"
   ]
  },
  {
   "cell_type": "code",
   "execution_count": 21,
   "metadata": {},
   "outputs": [],
   "source": [
    "def compute_crop_box(bucket_name, left_sizing_key, top_sizing_key, right_sizing_key, bottom_sizing_key,\n",
    "                    original_width, original_height):\n",
    "    keys = [left_sizing_key, top_sizing_key, right_sizing_key, bottom_sizing_key]\n",
    "    sizing_images = open_s3_key_list(bucket_name, keys)\n",
    "    left_pixel = original_width - sizing_images[0].width\n",
    "    top_pixel = original_height - sizing_images[1].height\n",
    "    right_pixel = sizing_images[2].width\n",
    "    bottom_pixel = sizing_images[3].height\n",
    "    return [left_pixel, top_pixel, right_pixel, bottom_pixel]"
   ]
  },
  {
   "cell_type": "code",
   "execution_count": 22,
   "metadata": {},
   "outputs": [],
   "source": [
    "# compute YuGiOh cropbox\n",
    "def compute_YuGiOh_crop_box():\n",
    "    bucket_name = 'sizing-images'\n",
    "    left = 'Left.jpg'\n",
    "    top = 'Top.jpg'\n",
    "    right = 'Right.jpg'\n",
    "    bottom = 'Bottom.jpg'\n",
    "    card_images = open_s3_bucket('yugiohcardimages', 1)\n",
    "    width, height = card_images[0].size\n",
    "    return compute_crop_box(bucket_name, left, top, right, bottom, width, height)"
   ]
  },
  {
   "cell_type": "code",
   "execution_count": 25,
   "metadata": {},
   "outputs": [
    {
     "data": {
      "text/plain": [
       "(320, 324)"
      ]
     },
     "execution_count": 25,
     "metadata": {},
     "output_type": "execute_result"
    }
   ],
   "source": [
    "card_images = open_s3_bucket('yugiohcardimages', 1)\n",
    "c = card_images[0].crop(compute_YuGiOh_crop_box())\n",
    "c.size"
   ]
  },
  {
   "cell_type": "code",
   "execution_count": 26,
   "metadata": {},
   "outputs": [],
   "source": [
    "def compute_magic_crop_box():\n",
    "    bucket_name = 'sizing-images'\n",
    "    folder = 'magic'\n",
    "    left = folder + '/Left.jpeg'\n",
    "    top = folder + '/Top.jpeg'\n",
    "    right = folder + '/Right.jpeg'\n",
    "    bottom = folder + '/Bottom.jpeg'\n",
    "    card_images = open_s3_bucket('magic-cards2')\n",
    "    width, height = card_images[0].size\n",
    "    return compute_crop_box(bucket_name, left, top, right, bottom, width, height)"
   ]
  },
  {
   "cell_type": "code",
   "execution_count": null,
   "metadata": {},
   "outputs": [],
   "source": [
    "card_images = open_s3_bucket('magic-cards2', 1)\n",
    "c = card_images[0].crop(compute_magic_crop_box())\n",
    "c"
   ]
  }
 ],
 "metadata": {
  "instance_type": "ml.t3.medium",
  "kernelspec": {
   "display_name": "Python 3 (TensorFlow 2 CPU Optimized)",
   "language": "python",
   "name": "python3__SAGEMAKER_INTERNAL__arn:aws:sagemaker:us-east-2:429704687514:image/tensorflow-2.1-cpu-py36"
  },
  "language_info": {
   "codemirror_mode": {
    "name": "ipython",
    "version": 3
   },
   "file_extension": ".py",
   "mimetype": "text/x-python",
   "name": "python",
   "nbconvert_exporter": "python",
   "pygments_lexer": "ipython3",
   "version": "3.6.9"
  }
 },
 "nbformat": 4,
 "nbformat_minor": 4
}
